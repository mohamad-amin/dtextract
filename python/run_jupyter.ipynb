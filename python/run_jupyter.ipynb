{
 "cells": [
  {
   "cell_type": "code",
   "execution_count": null,
   "metadata": {
    "collapsed": true
   },
   "outputs": [],
   "source": [
    "from sklearn.neural_network import MLPClassifier\n",
    "from sklearn.neural_network import MLPRegressor\n",
    "from sklearn.ensemble import RandomForestClassifier, RandomForestRegressor\n",
    "\n",
    "from dtextract.data.consts import *\n",
    "from dtextract.impl.funcs import *\n",
    "from dtextract.impl.dists import *\n",
    "from dtextract.util.util import *\n",
    "from dtextract.data.consts_generated import *\n",
    "from dtextract.examples.dt_interpreter import *\n",
    "from dtextract.examples.runCompare import *\n",
    "\n",
    "import pandas as pd\n",
    "import numpy as np"
   ]
  },
  {
   "cell_type": "code",
   "execution_count": null,
   "metadata": {
    "collapsed": true
   },
   "outputs": [],
   "source": [
    "output = TEST_OUTPUT  # The log file in which the log of running code will be written\n",
    "path = TEST_PATH  # Path to the input dataset in csv format\n",
    "data_types = TEST_DATA_TYPES\n",
    "has_header = TEST_HAS_HEADER\n",
    "isClassify = True  # Weather the problem is a classification or regression problem"
   ]
  },
  {
   "cell_type": "code",
   "execution_count": null,
   "metadata": {
    "collapsed": true
   },
   "outputs": [],
   "source": [
    "# The main algorithm's parameters\n",
    "nComponents = 1000  # Number of components (the gaussian mixtures)\n",
    "maxSize = 64  # maximum tree size\n",
    "nPts = 2000  # Number of points used in active sampling\n",
    "nTestPts = 2000  # Number of test points used in Active sampling\n",
    "\n",
    "# decision tree training parameters\n",
    "maxDtSize = maxSize"
   ]
  },
  {
   "cell_type": "code",
   "execution_count": null,
   "metadata": {
    "collapsed": true
   },
   "outputs": [],
   "source": [
    "setCurOutput(output)\n",
    "log('Parsing CSV...', INFO)\n",
    "(df, res, resMap, catFeats) = readCsv(path, has_header, data_types)\n",
    "log('Done!', INFO)"
   ]
  },
  {
   "cell_type": "code",
   "execution_count": null,
   "metadata": {
    "collapsed": true
   },
   "outputs": [],
   "source": [
    "log('Splitting into training and test...', INFO)\n",
    "(trainDf, testDf) = split(df, trainingProp)\n",
    "log('Done!', INFO)"
   ]
  },
  {
   "cell_type": "code",
   "execution_count": null,
   "metadata": {
    "collapsed": true
   },
   "outputs": [],
   "source": [
    "log('Constructing data matrices...', INFO)\n",
    "(XTrain, yTrain, catFeatIndsTrain, numericFeatIndsTrain) = constructDataMatrix(trainDf, res, catFeats)\n",
    "(XTest, yTest, catFeatIndsTest, numericFeatIndsTest) = constructDataMatrix(testDf, res, catFeats)\n",
    "log('Done!', INFO)"
   ]
  },
  {
   "cell_type": "code",
   "execution_count": null,
   "metadata": {
    "collapsed": true
   },
   "outputs": [],
   "source": [
    "log('Training random forest...', INFO)\n",
    "rfConstructor = RandomForestClassifier if isClassify else RandomForestRegressor\n",
    "rf = rfConstructor(n_estimators=nTrees)\n",
    "rf.fit(XTrain, yTrain)\n",
    "log('Done!', INFO)"
   ]
  },
  {
   "cell_type": "code",
   "execution_count": null,
   "metadata": {
    "collapsed": true
   },
   "outputs": [],
   "source": [
    "rfScoreFunc = f1Vec if isClassify else mseVec\n",
    "\n",
    "rfTrainScore = rfScoreFunc(rf.predict, XTrain, yTrain)\n",
    "rfTestScore = rfScoreFunc(rf.predict, XTest, yTest)\n",
    "\n",
    "log('Training score: ' + str(rfTrainScore), INFO)\n",
    "log('Test score: ' + str(rfTestScore), INFO)"
   ]
  },
  {
   "cell_type": "code",
   "execution_count": null,
   "metadata": {
    "collapsed": true
   },
   "outputs": [],
   "source": [
    "# Step 2: Set up decision tree extraction inputs\n",
    "paramsLearn = ParamsLearn(tgtScore, minGain, maxSize)\n",
    "paramsSimp = ParamsSimp(nPts, nTestPts, isClassify)\n",
    "\n",
    "# Step 3: Function\n",
    "rfFunc = getRfFunc(rf)"
   ]
  },
  {
   "cell_type": "code",
   "execution_count": null,
   "metadata": {
    "collapsed": true
   },
   "outputs": [],
   "source": [
    "dist = CategoricalGaussianMixtureDist(XTrain, catFeatIndsTrain, numericFeatIndsTrain, nComponents)"
   ]
  },
  {
   "cell_type": "code",
   "execution_count": null,
   "metadata": {
    "collapsed": true
   },
   "outputs": [],
   "source": [
    "# Step 5: Extract decision tree\n",
    "dtExtract, dtMap = learnDTSimp(genAxisAligned, rfFunc, dist, paramsLearn, paramsSimp)"
   ]
  },
  {
   "cell_type": "code",
   "execution_count": null,
   "metadata": {
    "collapsed": true
   },
   "outputs": [],
   "source": [
    "log('Decision tree:', INFO)\n",
    "log(str(dtExtract), INFO)\n",
    "log('Node count: ' + str(dtExtract.nNodes()), INFO)\n",
    "log('DT in DOT language:', INFO)\n",
    "log(str(dtExtract.toDotGraph()), INFO)"
   ]
  },
  {
   "cell_type": "code",
   "execution_count": null,
   "metadata": {
    "collapsed": true
   },
   "outputs": [],
   "source": [
    "scoreFunc = f1 if isClassify else mse\n",
    "\n",
    "dtExtractRelTrainScore = scoreFunc(dtExtract.eval, XTrain, rf.predict(XTrain))\n",
    "dtExtractRelTestScore = scoreFunc(dtExtract.eval, XTest, rf.predict(XTest))\n",
    "\n",
    "log('Relative training score: ' + str(dtExtractRelTrainScore), INFO)\n",
    "log('Relative test score: ' + str(dtExtractRelTestScore), INFO)\n",
    "\n",
    "dtExtractTrainScore = scoreFunc(dtExtract.eval, XTrain, yTrain)\n",
    "dtExtractTestScore = scoreFunc(dtExtract.eval, XTest, yTest)\n",
    "\n",
    "log('Training score: ' + str(dtExtractTrainScore), INFO)\n",
    "log('Test score: ' + str(dtExtractTestScore), INFO)"
   ]
  },
  {
   "cell_type": "code",
   "execution_count": null,
   "metadata": {
    "collapsed": true
   },
   "outputs": [],
   "source": [
    "# Step 6: Train a (greedy) decision tree\n",
    "log('Training greedy decision tree', INFO)\n",
    "maxLeaves = (maxDtSize + 1)/2\n",
    "dtConstructor = DecisionTreeClassifier if isClassify else DecisionTreeRegressor\n",
    "dtTrain = dtConstructor(max_leaf_nodes=maxLeaves)\n",
    "dtTrain.fit(XTrain, rfFunc(XTrain))\n",
    "log('Done!', INFO)\n",
    "log('Node count: ' + str(dtTrain.tree_.node_count), INFO)"
   ]
  },
  {
   "cell_type": "code",
   "execution_count": null,
   "metadata": {
    "collapsed": true
   },
   "outputs": [],
   "source": [
    "dtTrainRelTrainScore = scoreFunc(lambda x: dtTrain.predict(x.reshape(1, -1)), XTrain, rf.predict(XTrain))\n",
    "dtTrainRelTestScore = scoreFunc(lambda x: dtTrain.predict(x.reshape(1, -1)), XTest, rf.predict(XTest))\n",
    "\n",
    "log('Relative training score: ' + str(dtTrainRelTrainScore), INFO)\n",
    "log('Relative test score: ' + str(dtTrainRelTestScore), INFO)"
   ]
  },
  {
   "cell_type": "code",
   "execution_count": null,
   "metadata": {
    "collapsed": true
   },
   "outputs": [],
   "source": [
    "dtTrainTrainScore = scoreFunc(lambda x: dtTrain.predict(x.reshape(1, -1)), XTrain, yTrain)\n",
    "dtTrainTestScore = scoreFunc(lambda x: dtTrain.predict(x.reshape(1, -1)), XTest, yTest)\n",
    "    \n",
    "log('Training score: ' + str(dtTrainTrainScore), INFO)\n",
    "log('Test score: ' + str(dtTrainTestScore), INFO)"
   ]
  },
  {
   "cell_type": "code",
   "execution_count": null,
   "metadata": {
    "collapsed": true
   },
   "outputs": [],
   "source": [
    "predictions, biases, contributions = interpret_tree(dtExtract, dtMap, XTest, yTest)\n",
    "assert_interpretation(predictions, biases, contributions)"
   ]
  },
  {
   "cell_type": "code",
   "execution_count": null,
   "metadata": {
    "collapsed": true
   },
   "outputs": [],
   "source": [
    "descriptions = ''\n",
    "if has_header:\n",
    "    # NOTE: here you should trim the headers array to be the array of names of input columns \n",
    "    # with the same size as the number of columns. for example if the first row is and id row \n",
    "    # and the last row is the label row, you can use: \n",
    "    # headers = list(pd.read_csv(path))[1:-1]\n",
    "    headers = np.array(headers)\n",
    "    exps = interpret_samples(rf, dtExtract, XTest, contributions, labels=headers)\n",
    "    for i in range(len(exps)):\n",
    "        descriptions += exps[i].get_description(5, True, headers)\n",
    "else:\n",
    "    exps = interpret_samples(rf, dtExtract, XTest, contributions)\n",
    "    for i in range(len(exps)):\n",
    "        descriptions += exps[i].get_description(5)"
   ]
  }
 ],
 "metadata": {
  "kernelspec": {
   "display_name": "Python 2",
   "language": "python",
   "name": "python2"
  },
  "language_info": {
   "codemirror_mode": {
    "name": "ipython",
    "version": 2
   },
   "file_extension": ".py",
   "mimetype": "text/x-python",
   "name": "python",
   "nbconvert_exporter": "python",
   "pygments_lexer": "ipython2",
   "version": "2.7.6"
  }
 },
 "nbformat": 4,
 "nbformat_minor": 0
}
